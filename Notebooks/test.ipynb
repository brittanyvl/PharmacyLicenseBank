{
 "cells": [
  {
   "cell_type": "code",
   "id": "initial_id",
   "metadata": {
    "collapsed": true,
    "ExecuteTime": {
     "end_time": "2025-02-09T21:31:53.082424Z",
     "start_time": "2025-02-09T21:31:52.025641Z"
    }
   },
   "source": [
    "from Utilities import FDA\n",
    "import pandas as pd\n",
    "import openpyxl"
   ],
   "execution_count": 1,
   "outputs": []
  },
  {
   "metadata": {
    "ExecuteTime": {
     "end_time": "2025-02-09T21:31:53.846752Z",
     "start_time": "2025-02-09T21:31:53.802296Z"
    }
   },
   "cell_type": "code",
   "source": [
    "download = pd.read_excel(r\"C:\\Users\\bvlma\\PycharmProjects\\PharmacyLicenseBank\\Data\\FDA_503B\\503B_2025-02-09.xlsx\",\n",
    "                       dtype=str)"
   ],
   "id": "3aa273011b6fcdc4",
   "execution_count": 2,
   "outputs": []
  },
  {
   "metadata": {
    "ExecuteTime": {
     "end_time": "2025-02-09T21:31:56.288773Z",
     "start_time": "2025-02-09T21:31:56.214102Z"
    }
   },
   "cell_type": "code",
   "source": [
    "cleaned_503b = FDA.clean_fda_503b_list(download)\n",
    "cleaned_503b"
   ],
   "id": "2b7f1d2533a31167",
   "execution_count": 3,
   "outputs": []
  },
  {
   "metadata": {
    "ExecuteTime": {
     "end_time": "2025-02-09T21:32:30.897591Z",
     "start_time": "2025-02-09T21:32:30.884379Z"
    }
   },
   "cell_type": "code",
   "source": "data = cleaned_503b.copy()",
   "id": "5bedf7a28794b652",
   "execution_count": 6,
   "outputs": []
  },
  {
   "metadata": {},
   "cell_type": "markdown",
   "source": "# Metrics",
   "id": "3ec3dda8e6ac7594"
  },
  {
   "metadata": {
    "ExecuteTime": {
     "end_time": "2025-02-09T21:33:16.651157Z",
     "start_time": "2025-02-09T21:33:16.637152Z"
    }
   },
   "cell_type": "code",
   "source": [
    "metric_total_records = len(data)\n",
    "metric_total_records"
   ],
   "id": "a1f30ccf57507f64",
   "execution_count": 9,
   "outputs": []
  },
  {
   "metadata": {
    "ExecuteTime": {
     "end_time": "2025-02-09T21:34:53.271918Z",
     "start_time": "2025-02-09T21:34:53.258237Z"
    }
   },
   "cell_type": "code",
   "source": [
    "metric_percent_483s_issued = (data['form_483_issued'].mean()) * 100\n",
    "metric_percent_483s_issued"
   ],
   "id": "49a7083cd42c4c35",
   "execution_count": 10,
   "outputs": []
  },
  {
   "metadata": {
    "ExecuteTime": {
     "end_time": "2025-02-09T21:35:37.708782Z",
     "start_time": "2025-02-09T21:35:37.695542Z"
    }
   },
   "cell_type": "code",
   "source": [
    "metric_percent_recalls_conducted = (data['fda_recall_conducted'].mean()) * 100\n",
    "metric_percent_recalls_conducted"
   ],
   "id": "a99f3b58979e3167",
   "execution_count": 11,
   "outputs": []
  },
  {
   "metadata": {
    "ExecuteTime": {
     "end_time": "2025-02-09T21:37:04.030627Z",
     "start_time": "2025-02-09T21:37:04.015627Z"
    }
   },
   "cell_type": "code",
   "source": [
    "metric_percent_fda_uninspected = (data['no_fda_inspections'].mean()) * 100\n",
    "metric_percent_fda_uninspected"
   ],
   "id": "79c4169e4441c10f",
   "execution_count": 12,
   "outputs": []
  },
  {
   "metadata": {
    "ExecuteTime": {
     "end_time": "2025-02-09T21:51:54.642054Z",
     "start_time": "2025-02-09T21:51:54.628052Z"
    }
   },
   "cell_type": "code",
   "source": "data['post_inspection_action'].unique()",
   "id": "b323f77b02e12767",
   "execution_count": 13,
   "outputs": []
  },
  {
   "metadata": {},
   "cell_type": "code",
   "execution_count": null,
   "source": "",
   "id": "3351d2eda497b0d4",
   "outputs": []
  }
 ],
 "metadata": {
  "kernelspec": {
   "display_name": "Python 3",
   "language": "python",
   "name": "python3"
  },
  "language_info": {
   "codemirror_mode": {
    "name": "ipython",
    "version": 2
   },
   "file_extension": ".py",
   "mimetype": "text/x-python",
   "name": "python",
   "nbconvert_exporter": "python",
   "pygments_lexer": "ipython2",
   "version": "2.7.6"
  }
 },
 "nbformat": 4,
 "nbformat_minor": 5
}
